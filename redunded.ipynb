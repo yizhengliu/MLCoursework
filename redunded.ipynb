{
 "cells": [
  {
   "cell_type": "code",
   "execution_count": null,
   "metadata": {},
   "outputs": [],
   "source": [
    "# features = list(df.columns)\n",
    "# features.remove('default payment next month')\n",
    "\n",
    "# selectedFeatures = []\n",
    "\n",
    "# while len(selectedFeatures) != len(features):\n",
    "    \n",
    "#     b = 0\n",
    "#     y = []\n",
    "#     tmpF = setDifference(features, selectedFeatures)\n",
    "\n",
    "#     for f in tmpF:\n",
    "#         tmpX = selectedFeatures\n",
    "#         tmpX.append(f)\n",
    "#         toExclude = setDifference(features, tmpX)\n",
    "#         m = scoreFeatures(toExclude)\n",
    "\n",
    "#         if m > b:\n",
    "#             b = m\n",
    "#             y_score = tmpX\n",
    "\n",
    "#     toExclude = setDifference(features, selectedFeatures)\n",
    "#     m = scoreFeatures(toExclude)\n",
    "\n",
    "#     if m > b:\n",
    "#         break\n",
    "#     else:\n",
    "#         selectedFeatures = y_score\n",
    "\n",
    "# print(\"selectedFeatures: \",selectedFeatures)"
   ]
  },
  {
   "cell_type": "code",
   "execution_count": null,
   "metadata": {},
   "outputs": [],
   "source": [
    "from sklearn.model_selection import KFold\n",
    "\n",
    "kf = KFold(n_splits=5)\n",
    "k=1\n",
    "\n",
    "for train_index, test_index in kf.split(Xs):\n",
    "    print(\"fold\",k)\n",
    " \n",
    "    X_train, X_test = Xs[train_index], Xs[test_index]\n",
    "    y_train, y_test = y[train_index], y[test_index]\n",
    "\n",
    "    # training and validation\n",
    "    clf.fit(np.array(X_train), np.array(y_train))\n",
    "\n",
    "    # evaluate the accuracy of each fold\n",
    "    y_pred = clf.predict(X_test)\n",
    "    score = metrics.accuracy_score(y_test, y_pred)\n",
    "    print(\"%s: %.2f%%\" % (\"Classification accuracy\", score*100))\n",
    "    k=k+1"
   ]
  },
  {
   "cell_type": "code",
   "execution_count": null,
   "metadata": {},
   "outputs": [],
   "source": [
    "def setDifference(F: list, X:list):\n",
    "    \n",
    "    for x in X:\n",
    "\n",
    "        for f in F:\n",
    "            if x == f:\n",
    "                F.remove(f)\n",
    "                break\n",
    "\n",
    "    return F"
   ]
  },
  {
   "cell_type": "code",
   "execution_count": null,
   "metadata": {},
   "outputs": [],
   "source": [
    "def scoreFeatures(toDrop:list):\n",
    "\n",
    "    X = df.drop(\"default payment next month\", axis=1)\n",
    "\n",
    "    for d in toDrop:\n",
    "        X.drop(d, axis=1)\n",
    "\n",
    "    scaler = StandardScaler()\n",
    "    Xs = scaler.fit_transform(X)\n",
    "\n",
    "    y = None\n",
    "\n",
    "\n",
    "    y = df['default payment next month']\n",
    "\n",
    "\n",
    "    Xs_train, Xs_test, y_train, y_test = train_test_split(Xs, y, test_size=0.3,\n",
    "    random_state=1, stratify=y)\n",
    "\n",
    "    clf = SVC(C=1.0, kernel='rbf', degree=3, gamma='auto', probability=True)\n",
    "    clf.fit(Xs_train, y_train)\n",
    "\n",
    "    classifier_score = clf.score(Xs_test, y_test)\n",
    "    print(\"Excluded: \",toDrop,' The classifier accuracy score is {:03.2f}'.format(classifier_score))\n",
    "\n",
    "    return classifier_score "
   ]
  },
  {
   "cell_type": "code",
   "execution_count": null,
   "metadata": {},
   "outputs": [],
   "source": [
    "scoreFeatures(['MARRIAGE'])"
   ]
  },
  {
   "cell_type": "code",
   "execution_count": null,
   "metadata": {},
   "outputs": [],
   "source": [
    "from sklearn.model_selection import train_test_split"
   ]
  },
  {
   "cell_type": "code",
   "execution_count": null,
   "metadata": {},
   "outputs": [],
   "source": [
    "from sklearn.feature_selection import RFE\n",
    "rfe = RFE(clf)\n",
    "fit = rfe.fit(Xs, y)\n",
    "print(\"Num Features: %s\" % (fit.n_features_))\n",
    "print(\"Selected Features: %s\" % (fit.support_))\n",
    "print(\"Feature Ranking: %s\" % (fit.ranking_))"
   ]
  }
 ],
 "metadata": {
  "kernelspec": {
   "display_name": "Python 3.9.12 ('base')",
   "language": "python",
   "name": "python3"
  },
  "language_info": {
   "name": "python",
   "version": "3.9.12"
  },
  "orig_nbformat": 4,
  "vscode": {
   "interpreter": {
    "hash": "fc5cc57c2cbf92fc6c9edc03cb8a0e2de47b13744922aef775ccc7c10f3e20e9"
   }
  }
 },
 "nbformat": 4,
 "nbformat_minor": 2
}
