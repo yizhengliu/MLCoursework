{
 "cells": [
  {
   "cell_type": "code",
   "execution_count": 86,
   "metadata": {},
   "outputs": [],
   "source": [
    "import pandas as pd\n",
    "import seaborn as sns\n",
    "from matplotlib import pyplot as plt\n",
    "import numpy as np\n",
    "from sklearn.decomposition import PCA"
   ]
  },
  {
   "cell_type": "code",
   "execution_count": 87,
   "metadata": {},
   "outputs": [
    {
     "data": {
      "text/html": [
       "<div>\n",
       "<style scoped>\n",
       "    .dataframe tbody tr th:only-of-type {\n",
       "        vertical-align: middle;\n",
       "    }\n",
       "\n",
       "    .dataframe tbody tr th {\n",
       "        vertical-align: top;\n",
       "    }\n",
       "\n",
       "    .dataframe thead th {\n",
       "        text-align: right;\n",
       "    }\n",
       "</style>\n",
       "<table border=\"1\" class=\"dataframe\">\n",
       "  <thead>\n",
       "    <tr style=\"text-align: right;\">\n",
       "      <th></th>\n",
       "      <th>ID</th>\n",
       "      <th>LIMIT_BAL</th>\n",
       "      <th>SEX</th>\n",
       "      <th>EDUCATION</th>\n",
       "      <th>MARRIAGE</th>\n",
       "      <th>AGE</th>\n",
       "      <th>PAY_0</th>\n",
       "      <th>PAY_2</th>\n",
       "      <th>PAY_3</th>\n",
       "      <th>PAY_4</th>\n",
       "      <th>...</th>\n",
       "      <th>BILL_AMT4</th>\n",
       "      <th>BILL_AMT5</th>\n",
       "      <th>BILL_AMT6</th>\n",
       "      <th>PAY_AMT1</th>\n",
       "      <th>PAY_AMT2</th>\n",
       "      <th>PAY_AMT3</th>\n",
       "      <th>PAY_AMT4</th>\n",
       "      <th>PAY_AMT5</th>\n",
       "      <th>PAY_AMT6</th>\n",
       "      <th>default payment next month</th>\n",
       "    </tr>\n",
       "  </thead>\n",
       "  <tbody>\n",
       "    <tr>\n",
       "      <th>0</th>\n",
       "      <td>1</td>\n",
       "      <td>20000</td>\n",
       "      <td>2</td>\n",
       "      <td>2</td>\n",
       "      <td>1</td>\n",
       "      <td>24</td>\n",
       "      <td>2</td>\n",
       "      <td>2</td>\n",
       "      <td>-1</td>\n",
       "      <td>-1</td>\n",
       "      <td>...</td>\n",
       "      <td>0</td>\n",
       "      <td>0</td>\n",
       "      <td>0</td>\n",
       "      <td>0</td>\n",
       "      <td>689</td>\n",
       "      <td>0</td>\n",
       "      <td>0</td>\n",
       "      <td>0</td>\n",
       "      <td>0</td>\n",
       "      <td>1</td>\n",
       "    </tr>\n",
       "    <tr>\n",
       "      <th>1</th>\n",
       "      <td>2</td>\n",
       "      <td>120000</td>\n",
       "      <td>2</td>\n",
       "      <td>2</td>\n",
       "      <td>2</td>\n",
       "      <td>26</td>\n",
       "      <td>-1</td>\n",
       "      <td>2</td>\n",
       "      <td>0</td>\n",
       "      <td>0</td>\n",
       "      <td>...</td>\n",
       "      <td>3272</td>\n",
       "      <td>3455</td>\n",
       "      <td>3261</td>\n",
       "      <td>0</td>\n",
       "      <td>1000</td>\n",
       "      <td>1000</td>\n",
       "      <td>1000</td>\n",
       "      <td>0</td>\n",
       "      <td>2000</td>\n",
       "      <td>1</td>\n",
       "    </tr>\n",
       "    <tr>\n",
       "      <th>2</th>\n",
       "      <td>3</td>\n",
       "      <td>90000</td>\n",
       "      <td>2</td>\n",
       "      <td>2</td>\n",
       "      <td>2</td>\n",
       "      <td>34</td>\n",
       "      <td>0</td>\n",
       "      <td>0</td>\n",
       "      <td>0</td>\n",
       "      <td>0</td>\n",
       "      <td>...</td>\n",
       "      <td>14331</td>\n",
       "      <td>14948</td>\n",
       "      <td>15549</td>\n",
       "      <td>1518</td>\n",
       "      <td>1500</td>\n",
       "      <td>1000</td>\n",
       "      <td>1000</td>\n",
       "      <td>1000</td>\n",
       "      <td>5000</td>\n",
       "      <td>0</td>\n",
       "    </tr>\n",
       "    <tr>\n",
       "      <th>3</th>\n",
       "      <td>4</td>\n",
       "      <td>50000</td>\n",
       "      <td>2</td>\n",
       "      <td>2</td>\n",
       "      <td>1</td>\n",
       "      <td>37</td>\n",
       "      <td>0</td>\n",
       "      <td>0</td>\n",
       "      <td>0</td>\n",
       "      <td>0</td>\n",
       "      <td>...</td>\n",
       "      <td>28314</td>\n",
       "      <td>28959</td>\n",
       "      <td>29547</td>\n",
       "      <td>2000</td>\n",
       "      <td>2019</td>\n",
       "      <td>1200</td>\n",
       "      <td>1100</td>\n",
       "      <td>1069</td>\n",
       "      <td>1000</td>\n",
       "      <td>0</td>\n",
       "    </tr>\n",
       "    <tr>\n",
       "      <th>4</th>\n",
       "      <td>5</td>\n",
       "      <td>50000</td>\n",
       "      <td>1</td>\n",
       "      <td>2</td>\n",
       "      <td>1</td>\n",
       "      <td>57</td>\n",
       "      <td>-1</td>\n",
       "      <td>0</td>\n",
       "      <td>-1</td>\n",
       "      <td>0</td>\n",
       "      <td>...</td>\n",
       "      <td>20940</td>\n",
       "      <td>19146</td>\n",
       "      <td>19131</td>\n",
       "      <td>2000</td>\n",
       "      <td>36681</td>\n",
       "      <td>10000</td>\n",
       "      <td>9000</td>\n",
       "      <td>689</td>\n",
       "      <td>679</td>\n",
       "      <td>0</td>\n",
       "    </tr>\n",
       "  </tbody>\n",
       "</table>\n",
       "<p>5 rows × 25 columns</p>\n",
       "</div>"
      ],
      "text/plain": [
       "   ID  LIMIT_BAL  SEX  EDUCATION  MARRIAGE  AGE  PAY_0  PAY_2  PAY_3  PAY_4  \\\n",
       "0   1      20000    2          2         1   24      2      2     -1     -1   \n",
       "1   2     120000    2          2         2   26     -1      2      0      0   \n",
       "2   3      90000    2          2         2   34      0      0      0      0   \n",
       "3   4      50000    2          2         1   37      0      0      0      0   \n",
       "4   5      50000    1          2         1   57     -1      0     -1      0   \n",
       "\n",
       "   ...  BILL_AMT4  BILL_AMT5  BILL_AMT6  PAY_AMT1  PAY_AMT2  PAY_AMT3  \\\n",
       "0  ...          0          0          0         0       689         0   \n",
       "1  ...       3272       3455       3261         0      1000      1000   \n",
       "2  ...      14331      14948      15549      1518      1500      1000   \n",
       "3  ...      28314      28959      29547      2000      2019      1200   \n",
       "4  ...      20940      19146      19131      2000     36681     10000   \n",
       "\n",
       "   PAY_AMT4  PAY_AMT5  PAY_AMT6  default payment next month  \n",
       "0         0         0         0                           1  \n",
       "1      1000         0      2000                           1  \n",
       "2      1000      1000      5000                           0  \n",
       "3      1100      1069      1000                           0  \n",
       "4      9000       689       679                           0  \n",
       "\n",
       "[5 rows x 25 columns]"
      ]
     },
     "execution_count": 87,
     "metadata": {},
     "output_type": "execute_result"
    }
   ],
   "source": [
    "df = pd.read_excel(\"default of credit card clients.xlsx\", index_col=False)\n",
    "df.head(5)"
   ]
  },
  {
   "cell_type": "code",
   "execution_count": 88,
   "metadata": {},
   "outputs": [
    {
     "data": {
      "text/html": [
       "<div>\n",
       "<style scoped>\n",
       "    .dataframe tbody tr th:only-of-type {\n",
       "        vertical-align: middle;\n",
       "    }\n",
       "\n",
       "    .dataframe tbody tr th {\n",
       "        vertical-align: top;\n",
       "    }\n",
       "\n",
       "    .dataframe thead th {\n",
       "        text-align: right;\n",
       "    }\n",
       "</style>\n",
       "<table border=\"1\" class=\"dataframe\">\n",
       "  <thead>\n",
       "    <tr style=\"text-align: right;\">\n",
       "      <th></th>\n",
       "      <th>LIMIT_BAL</th>\n",
       "      <th>SEX</th>\n",
       "      <th>EDUCATION</th>\n",
       "      <th>MARRIAGE</th>\n",
       "      <th>AGE</th>\n",
       "      <th>PAY_0</th>\n",
       "      <th>PAY_2</th>\n",
       "      <th>PAY_3</th>\n",
       "      <th>PAY_4</th>\n",
       "      <th>PAY_5</th>\n",
       "      <th>...</th>\n",
       "      <th>BILL_AMT4</th>\n",
       "      <th>BILL_AMT5</th>\n",
       "      <th>BILL_AMT6</th>\n",
       "      <th>PAY_AMT1</th>\n",
       "      <th>PAY_AMT2</th>\n",
       "      <th>PAY_AMT3</th>\n",
       "      <th>PAY_AMT4</th>\n",
       "      <th>PAY_AMT5</th>\n",
       "      <th>PAY_AMT6</th>\n",
       "      <th>default payment next month</th>\n",
       "    </tr>\n",
       "  </thead>\n",
       "  <tbody>\n",
       "    <tr>\n",
       "      <th>0</th>\n",
       "      <td>20000</td>\n",
       "      <td>2</td>\n",
       "      <td>2</td>\n",
       "      <td>1</td>\n",
       "      <td>24</td>\n",
       "      <td>2</td>\n",
       "      <td>2</td>\n",
       "      <td>-1</td>\n",
       "      <td>-1</td>\n",
       "      <td>-2</td>\n",
       "      <td>...</td>\n",
       "      <td>0</td>\n",
       "      <td>0</td>\n",
       "      <td>0</td>\n",
       "      <td>0</td>\n",
       "      <td>689</td>\n",
       "      <td>0</td>\n",
       "      <td>0</td>\n",
       "      <td>0</td>\n",
       "      <td>0</td>\n",
       "      <td>1</td>\n",
       "    </tr>\n",
       "    <tr>\n",
       "      <th>1</th>\n",
       "      <td>120000</td>\n",
       "      <td>2</td>\n",
       "      <td>2</td>\n",
       "      <td>2</td>\n",
       "      <td>26</td>\n",
       "      <td>-1</td>\n",
       "      <td>2</td>\n",
       "      <td>0</td>\n",
       "      <td>0</td>\n",
       "      <td>0</td>\n",
       "      <td>...</td>\n",
       "      <td>3272</td>\n",
       "      <td>3455</td>\n",
       "      <td>3261</td>\n",
       "      <td>0</td>\n",
       "      <td>1000</td>\n",
       "      <td>1000</td>\n",
       "      <td>1000</td>\n",
       "      <td>0</td>\n",
       "      <td>2000</td>\n",
       "      <td>1</td>\n",
       "    </tr>\n",
       "    <tr>\n",
       "      <th>2</th>\n",
       "      <td>90000</td>\n",
       "      <td>2</td>\n",
       "      <td>2</td>\n",
       "      <td>2</td>\n",
       "      <td>34</td>\n",
       "      <td>0</td>\n",
       "      <td>0</td>\n",
       "      <td>0</td>\n",
       "      <td>0</td>\n",
       "      <td>0</td>\n",
       "      <td>...</td>\n",
       "      <td>14331</td>\n",
       "      <td>14948</td>\n",
       "      <td>15549</td>\n",
       "      <td>1518</td>\n",
       "      <td>1500</td>\n",
       "      <td>1000</td>\n",
       "      <td>1000</td>\n",
       "      <td>1000</td>\n",
       "      <td>5000</td>\n",
       "      <td>0</td>\n",
       "    </tr>\n",
       "    <tr>\n",
       "      <th>3</th>\n",
       "      <td>50000</td>\n",
       "      <td>2</td>\n",
       "      <td>2</td>\n",
       "      <td>1</td>\n",
       "      <td>37</td>\n",
       "      <td>0</td>\n",
       "      <td>0</td>\n",
       "      <td>0</td>\n",
       "      <td>0</td>\n",
       "      <td>0</td>\n",
       "      <td>...</td>\n",
       "      <td>28314</td>\n",
       "      <td>28959</td>\n",
       "      <td>29547</td>\n",
       "      <td>2000</td>\n",
       "      <td>2019</td>\n",
       "      <td>1200</td>\n",
       "      <td>1100</td>\n",
       "      <td>1069</td>\n",
       "      <td>1000</td>\n",
       "      <td>0</td>\n",
       "    </tr>\n",
       "    <tr>\n",
       "      <th>4</th>\n",
       "      <td>50000</td>\n",
       "      <td>1</td>\n",
       "      <td>2</td>\n",
       "      <td>1</td>\n",
       "      <td>57</td>\n",
       "      <td>-1</td>\n",
       "      <td>0</td>\n",
       "      <td>-1</td>\n",
       "      <td>0</td>\n",
       "      <td>0</td>\n",
       "      <td>...</td>\n",
       "      <td>20940</td>\n",
       "      <td>19146</td>\n",
       "      <td>19131</td>\n",
       "      <td>2000</td>\n",
       "      <td>36681</td>\n",
       "      <td>10000</td>\n",
       "      <td>9000</td>\n",
       "      <td>689</td>\n",
       "      <td>679</td>\n",
       "      <td>0</td>\n",
       "    </tr>\n",
       "  </tbody>\n",
       "</table>\n",
       "<p>5 rows × 24 columns</p>\n",
       "</div>"
      ],
      "text/plain": [
       "   LIMIT_BAL  SEX  EDUCATION  MARRIAGE  AGE  PAY_0  PAY_2  PAY_3  PAY_4  \\\n",
       "0      20000    2          2         1   24      2      2     -1     -1   \n",
       "1     120000    2          2         2   26     -1      2      0      0   \n",
       "2      90000    2          2         2   34      0      0      0      0   \n",
       "3      50000    2          2         1   37      0      0      0      0   \n",
       "4      50000    1          2         1   57     -1      0     -1      0   \n",
       "\n",
       "   PAY_5  ...  BILL_AMT4  BILL_AMT5  BILL_AMT6  PAY_AMT1  PAY_AMT2  PAY_AMT3  \\\n",
       "0     -2  ...          0          0          0         0       689         0   \n",
       "1      0  ...       3272       3455       3261         0      1000      1000   \n",
       "2      0  ...      14331      14948      15549      1518      1500      1000   \n",
       "3      0  ...      28314      28959      29547      2000      2019      1200   \n",
       "4      0  ...      20940      19146      19131      2000     36681     10000   \n",
       "\n",
       "   PAY_AMT4  PAY_AMT5  PAY_AMT6  default payment next month  \n",
       "0         0         0         0                           1  \n",
       "1      1000         0      2000                           1  \n",
       "2      1000      1000      5000                           0  \n",
       "3      1100      1069      1000                           0  \n",
       "4      9000       689       679                           0  \n",
       "\n",
       "[5 rows x 24 columns]"
      ]
     },
     "execution_count": 88,
     "metadata": {},
     "output_type": "execute_result"
    }
   ],
   "source": [
    "df.drop(\"ID\", axis=1 ,inplace=True)\n",
    "df.head(5)"
   ]
  },
  {
   "cell_type": "code",
   "execution_count": 89,
   "metadata": {},
   "outputs": [
    {
     "name": "stdout",
     "output_type": "stream",
     "text": [
      "<class 'pandas.core.frame.DataFrame'>\n",
      "RangeIndex: 30000 entries, 0 to 29999\n",
      "Data columns (total 24 columns):\n",
      " #   Column                      Non-Null Count  Dtype\n",
      "---  ------                      --------------  -----\n",
      " 0   LIMIT_BAL                   30000 non-null  int64\n",
      " 1   SEX                         30000 non-null  int64\n",
      " 2   EDUCATION                   30000 non-null  int64\n",
      " 3   MARRIAGE                    30000 non-null  int64\n",
      " 4   AGE                         30000 non-null  int64\n",
      " 5   PAY_0                       30000 non-null  int64\n",
      " 6   PAY_2                       30000 non-null  int64\n",
      " 7   PAY_3                       30000 non-null  int64\n",
      " 8   PAY_4                       30000 non-null  int64\n",
      " 9   PAY_5                       30000 non-null  int64\n",
      " 10  PAY_6                       30000 non-null  int64\n",
      " 11  BILL_AMT1                   30000 non-null  int64\n",
      " 12  BILL_AMT2                   30000 non-null  int64\n",
      " 13  BILL_AMT3                   30000 non-null  int64\n",
      " 14  BILL_AMT4                   30000 non-null  int64\n",
      " 15  BILL_AMT5                   30000 non-null  int64\n",
      " 16  BILL_AMT6                   30000 non-null  int64\n",
      " 17  PAY_AMT1                    30000 non-null  int64\n",
      " 18  PAY_AMT2                    30000 non-null  int64\n",
      " 19  PAY_AMT3                    30000 non-null  int64\n",
      " 20  PAY_AMT4                    30000 non-null  int64\n",
      " 21  PAY_AMT5                    30000 non-null  int64\n",
      " 22  PAY_AMT6                    30000 non-null  int64\n",
      " 23  default payment next month  30000 non-null  int64\n",
      "dtypes: int64(24)\n",
      "memory usage: 5.5 MB\n"
     ]
    }
   ],
   "source": [
    "df.info()"
   ]
  },
  {
   "cell_type": "code",
   "execution_count": 90,
   "metadata": {},
   "outputs": [
    {
     "data": {
      "text/html": [
       "<div>\n",
       "<style scoped>\n",
       "    .dataframe tbody tr th:only-of-type {\n",
       "        vertical-align: middle;\n",
       "    }\n",
       "\n",
       "    .dataframe tbody tr th {\n",
       "        vertical-align: top;\n",
       "    }\n",
       "\n",
       "    .dataframe thead th {\n",
       "        text-align: right;\n",
       "    }\n",
       "</style>\n",
       "<table border=\"1\" class=\"dataframe\">\n",
       "  <thead>\n",
       "    <tr style=\"text-align: right;\">\n",
       "      <th></th>\n",
       "      <th>LIMIT_BAL</th>\n",
       "      <th>SEX</th>\n",
       "      <th>EDUCATION</th>\n",
       "      <th>MARRIAGE</th>\n",
       "      <th>AGE</th>\n",
       "      <th>PAY_0</th>\n",
       "      <th>PAY_2</th>\n",
       "      <th>PAY_3</th>\n",
       "      <th>PAY_4</th>\n",
       "      <th>PAY_5</th>\n",
       "      <th>...</th>\n",
       "      <th>BILL_AMT4</th>\n",
       "      <th>BILL_AMT5</th>\n",
       "      <th>BILL_AMT6</th>\n",
       "      <th>PAY_AMT1</th>\n",
       "      <th>PAY_AMT2</th>\n",
       "      <th>PAY_AMT3</th>\n",
       "      <th>PAY_AMT4</th>\n",
       "      <th>PAY_AMT5</th>\n",
       "      <th>PAY_AMT6</th>\n",
       "      <th>default payment next month</th>\n",
       "    </tr>\n",
       "  </thead>\n",
       "  <tbody>\n",
       "    <tr>\n",
       "      <th>count</th>\n",
       "      <td>30000.000000</td>\n",
       "      <td>30000.000000</td>\n",
       "      <td>30000.000000</td>\n",
       "      <td>30000.000000</td>\n",
       "      <td>30000.000000</td>\n",
       "      <td>30000.000000</td>\n",
       "      <td>30000.000000</td>\n",
       "      <td>30000.000000</td>\n",
       "      <td>30000.000000</td>\n",
       "      <td>30000.000000</td>\n",
       "      <td>...</td>\n",
       "      <td>30000.000000</td>\n",
       "      <td>30000.000000</td>\n",
       "      <td>30000.000000</td>\n",
       "      <td>30000.000000</td>\n",
       "      <td>3.000000e+04</td>\n",
       "      <td>30000.00000</td>\n",
       "      <td>30000.000000</td>\n",
       "      <td>30000.000000</td>\n",
       "      <td>30000.000000</td>\n",
       "      <td>30000.000000</td>\n",
       "    </tr>\n",
       "    <tr>\n",
       "      <th>mean</th>\n",
       "      <td>167484.322667</td>\n",
       "      <td>1.603733</td>\n",
       "      <td>1.853133</td>\n",
       "      <td>1.551867</td>\n",
       "      <td>35.485500</td>\n",
       "      <td>-0.016700</td>\n",
       "      <td>-0.133767</td>\n",
       "      <td>-0.166200</td>\n",
       "      <td>-0.220667</td>\n",
       "      <td>-0.266200</td>\n",
       "      <td>...</td>\n",
       "      <td>43262.948967</td>\n",
       "      <td>40311.400967</td>\n",
       "      <td>38871.760400</td>\n",
       "      <td>5663.580500</td>\n",
       "      <td>5.921163e+03</td>\n",
       "      <td>5225.68150</td>\n",
       "      <td>4826.076867</td>\n",
       "      <td>4799.387633</td>\n",
       "      <td>5215.502567</td>\n",
       "      <td>0.221200</td>\n",
       "    </tr>\n",
       "    <tr>\n",
       "      <th>std</th>\n",
       "      <td>129747.661567</td>\n",
       "      <td>0.489129</td>\n",
       "      <td>0.790349</td>\n",
       "      <td>0.521970</td>\n",
       "      <td>9.217904</td>\n",
       "      <td>1.123802</td>\n",
       "      <td>1.197186</td>\n",
       "      <td>1.196868</td>\n",
       "      <td>1.169139</td>\n",
       "      <td>1.133187</td>\n",
       "      <td>...</td>\n",
       "      <td>64332.856134</td>\n",
       "      <td>60797.155770</td>\n",
       "      <td>59554.107537</td>\n",
       "      <td>16563.280354</td>\n",
       "      <td>2.304087e+04</td>\n",
       "      <td>17606.96147</td>\n",
       "      <td>15666.159744</td>\n",
       "      <td>15278.305679</td>\n",
       "      <td>17777.465775</td>\n",
       "      <td>0.415062</td>\n",
       "    </tr>\n",
       "    <tr>\n",
       "      <th>min</th>\n",
       "      <td>10000.000000</td>\n",
       "      <td>1.000000</td>\n",
       "      <td>0.000000</td>\n",
       "      <td>0.000000</td>\n",
       "      <td>21.000000</td>\n",
       "      <td>-2.000000</td>\n",
       "      <td>-2.000000</td>\n",
       "      <td>-2.000000</td>\n",
       "      <td>-2.000000</td>\n",
       "      <td>-2.000000</td>\n",
       "      <td>...</td>\n",
       "      <td>-170000.000000</td>\n",
       "      <td>-81334.000000</td>\n",
       "      <td>-339603.000000</td>\n",
       "      <td>0.000000</td>\n",
       "      <td>0.000000e+00</td>\n",
       "      <td>0.00000</td>\n",
       "      <td>0.000000</td>\n",
       "      <td>0.000000</td>\n",
       "      <td>0.000000</td>\n",
       "      <td>0.000000</td>\n",
       "    </tr>\n",
       "    <tr>\n",
       "      <th>25%</th>\n",
       "      <td>50000.000000</td>\n",
       "      <td>1.000000</td>\n",
       "      <td>1.000000</td>\n",
       "      <td>1.000000</td>\n",
       "      <td>28.000000</td>\n",
       "      <td>-1.000000</td>\n",
       "      <td>-1.000000</td>\n",
       "      <td>-1.000000</td>\n",
       "      <td>-1.000000</td>\n",
       "      <td>-1.000000</td>\n",
       "      <td>...</td>\n",
       "      <td>2326.750000</td>\n",
       "      <td>1763.000000</td>\n",
       "      <td>1256.000000</td>\n",
       "      <td>1000.000000</td>\n",
       "      <td>8.330000e+02</td>\n",
       "      <td>390.00000</td>\n",
       "      <td>296.000000</td>\n",
       "      <td>252.500000</td>\n",
       "      <td>117.750000</td>\n",
       "      <td>0.000000</td>\n",
       "    </tr>\n",
       "    <tr>\n",
       "      <th>50%</th>\n",
       "      <td>140000.000000</td>\n",
       "      <td>2.000000</td>\n",
       "      <td>2.000000</td>\n",
       "      <td>2.000000</td>\n",
       "      <td>34.000000</td>\n",
       "      <td>0.000000</td>\n",
       "      <td>0.000000</td>\n",
       "      <td>0.000000</td>\n",
       "      <td>0.000000</td>\n",
       "      <td>0.000000</td>\n",
       "      <td>...</td>\n",
       "      <td>19052.000000</td>\n",
       "      <td>18104.500000</td>\n",
       "      <td>17071.000000</td>\n",
       "      <td>2100.000000</td>\n",
       "      <td>2.009000e+03</td>\n",
       "      <td>1800.00000</td>\n",
       "      <td>1500.000000</td>\n",
       "      <td>1500.000000</td>\n",
       "      <td>1500.000000</td>\n",
       "      <td>0.000000</td>\n",
       "    </tr>\n",
       "    <tr>\n",
       "      <th>75%</th>\n",
       "      <td>240000.000000</td>\n",
       "      <td>2.000000</td>\n",
       "      <td>2.000000</td>\n",
       "      <td>2.000000</td>\n",
       "      <td>41.000000</td>\n",
       "      <td>0.000000</td>\n",
       "      <td>0.000000</td>\n",
       "      <td>0.000000</td>\n",
       "      <td>0.000000</td>\n",
       "      <td>0.000000</td>\n",
       "      <td>...</td>\n",
       "      <td>54506.000000</td>\n",
       "      <td>50190.500000</td>\n",
       "      <td>49198.250000</td>\n",
       "      <td>5006.000000</td>\n",
       "      <td>5.000000e+03</td>\n",
       "      <td>4505.00000</td>\n",
       "      <td>4013.250000</td>\n",
       "      <td>4031.500000</td>\n",
       "      <td>4000.000000</td>\n",
       "      <td>0.000000</td>\n",
       "    </tr>\n",
       "    <tr>\n",
       "      <th>max</th>\n",
       "      <td>1000000.000000</td>\n",
       "      <td>2.000000</td>\n",
       "      <td>6.000000</td>\n",
       "      <td>3.000000</td>\n",
       "      <td>79.000000</td>\n",
       "      <td>8.000000</td>\n",
       "      <td>8.000000</td>\n",
       "      <td>8.000000</td>\n",
       "      <td>8.000000</td>\n",
       "      <td>8.000000</td>\n",
       "      <td>...</td>\n",
       "      <td>891586.000000</td>\n",
       "      <td>927171.000000</td>\n",
       "      <td>961664.000000</td>\n",
       "      <td>873552.000000</td>\n",
       "      <td>1.684259e+06</td>\n",
       "      <td>896040.00000</td>\n",
       "      <td>621000.000000</td>\n",
       "      <td>426529.000000</td>\n",
       "      <td>528666.000000</td>\n",
       "      <td>1.000000</td>\n",
       "    </tr>\n",
       "  </tbody>\n",
       "</table>\n",
       "<p>8 rows × 24 columns</p>\n",
       "</div>"
      ],
      "text/plain": [
       "            LIMIT_BAL           SEX     EDUCATION      MARRIAGE           AGE  \\\n",
       "count    30000.000000  30000.000000  30000.000000  30000.000000  30000.000000   \n",
       "mean    167484.322667      1.603733      1.853133      1.551867     35.485500   \n",
       "std     129747.661567      0.489129      0.790349      0.521970      9.217904   \n",
       "min      10000.000000      1.000000      0.000000      0.000000     21.000000   \n",
       "25%      50000.000000      1.000000      1.000000      1.000000     28.000000   \n",
       "50%     140000.000000      2.000000      2.000000      2.000000     34.000000   \n",
       "75%     240000.000000      2.000000      2.000000      2.000000     41.000000   \n",
       "max    1000000.000000      2.000000      6.000000      3.000000     79.000000   \n",
       "\n",
       "              PAY_0         PAY_2         PAY_3         PAY_4         PAY_5  \\\n",
       "count  30000.000000  30000.000000  30000.000000  30000.000000  30000.000000   \n",
       "mean      -0.016700     -0.133767     -0.166200     -0.220667     -0.266200   \n",
       "std        1.123802      1.197186      1.196868      1.169139      1.133187   \n",
       "min       -2.000000     -2.000000     -2.000000     -2.000000     -2.000000   \n",
       "25%       -1.000000     -1.000000     -1.000000     -1.000000     -1.000000   \n",
       "50%        0.000000      0.000000      0.000000      0.000000      0.000000   \n",
       "75%        0.000000      0.000000      0.000000      0.000000      0.000000   \n",
       "max        8.000000      8.000000      8.000000      8.000000      8.000000   \n",
       "\n",
       "       ...      BILL_AMT4      BILL_AMT5      BILL_AMT6       PAY_AMT1  \\\n",
       "count  ...   30000.000000   30000.000000   30000.000000   30000.000000   \n",
       "mean   ...   43262.948967   40311.400967   38871.760400    5663.580500   \n",
       "std    ...   64332.856134   60797.155770   59554.107537   16563.280354   \n",
       "min    ... -170000.000000  -81334.000000 -339603.000000       0.000000   \n",
       "25%    ...    2326.750000    1763.000000    1256.000000    1000.000000   \n",
       "50%    ...   19052.000000   18104.500000   17071.000000    2100.000000   \n",
       "75%    ...   54506.000000   50190.500000   49198.250000    5006.000000   \n",
       "max    ...  891586.000000  927171.000000  961664.000000  873552.000000   \n",
       "\n",
       "           PAY_AMT2      PAY_AMT3       PAY_AMT4       PAY_AMT5  \\\n",
       "count  3.000000e+04   30000.00000   30000.000000   30000.000000   \n",
       "mean   5.921163e+03    5225.68150    4826.076867    4799.387633   \n",
       "std    2.304087e+04   17606.96147   15666.159744   15278.305679   \n",
       "min    0.000000e+00       0.00000       0.000000       0.000000   \n",
       "25%    8.330000e+02     390.00000     296.000000     252.500000   \n",
       "50%    2.009000e+03    1800.00000    1500.000000    1500.000000   \n",
       "75%    5.000000e+03    4505.00000    4013.250000    4031.500000   \n",
       "max    1.684259e+06  896040.00000  621000.000000  426529.000000   \n",
       "\n",
       "            PAY_AMT6  default payment next month  \n",
       "count   30000.000000                30000.000000  \n",
       "mean     5215.502567                    0.221200  \n",
       "std     17777.465775                    0.415062  \n",
       "min         0.000000                    0.000000  \n",
       "25%       117.750000                    0.000000  \n",
       "50%      1500.000000                    0.000000  \n",
       "75%      4000.000000                    0.000000  \n",
       "max    528666.000000                    1.000000  \n",
       "\n",
       "[8 rows x 24 columns]"
      ]
     },
     "execution_count": 90,
     "metadata": {},
     "output_type": "execute_result"
    }
   ],
   "source": [
    "df.describe()"
   ]
  },
  {
   "cell_type": "code",
   "execution_count": 91,
   "metadata": {},
   "outputs": [
    {
     "data": {
      "text/plain": [
       "0    23364\n",
       "1     6636\n",
       "Name: default payment next month, dtype: int64"
      ]
     },
     "execution_count": 91,
     "metadata": {},
     "output_type": "execute_result"
    }
   ],
   "source": [
    "df['default payment next month'].value_counts()"
   ]
  },
  {
   "cell_type": "markdown",
   "metadata": {},
   "source": [
    "Yes = 1, No = 0"
   ]
  },
  {
   "cell_type": "code",
   "execution_count": 92,
   "metadata": {},
   "outputs": [
    {
     "data": {
      "text/plain": [
       "<AxesSubplot:xlabel='default payment next month', ylabel='count'>"
      ]
     },
     "execution_count": 92,
     "metadata": {},
     "output_type": "execute_result"
    },
    {
     "data": {
      "image/png": "[encoded data removed]",
      "text/plain": [
       "<Figure size 432x288 with 1 Axes>"
      ]
     },
     "metadata": {
      "needs_background": "light"
     },
     "output_type": "display_data"
    }
   ],
   "source": [
    "sns.countplot(x='default payment next month', data=df)"
   ]
  },
  {
   "cell_type": "markdown",
   "metadata": {},
   "source": [
    "histogram plot for default payment"
   ]
  },
  {
   "cell_type": "code",
   "execution_count": 93,
   "metadata": {},
   "outputs": [
    {
     "data": {
      "text/plain": [
       "2    18112\n",
       "1    11888\n",
       "Name: SEX, dtype: int64"
      ]
     },
     "execution_count": 93,
     "metadata": {},
     "output_type": "execute_result"
    }
   ],
   "source": [
    "df['SEX'].value_counts()"
   ]
  },
  {
   "cell_type": "markdown",
   "metadata": {},
   "source": [
    "1 = male\n",
    "2 = female"
   ]
  },
  {
   "cell_type": "code",
   "execution_count": 94,
   "metadata": {},
   "outputs": [
    {
     "data": {
      "text/plain": [
       "<AxesSubplot:xlabel='SEX', ylabel='count'>"
      ]
     },
     "execution_count": 94,
     "metadata": {},
     "output_type": "execute_result"
    },
    {
     "data": {
      "image/png": "[encoded data removed]",
      "text/plain": [
       "<Figure size 432x288 with 1 Axes>"
      ]
     },
     "metadata": {
      "needs_background": "light"
     },
     "output_type": "display_data"
    }
   ],
   "source": [
    "sns.countplot(x='SEX', data=df)"
   ]
  },
  {
   "cell_type": "code",
   "execution_count": 95,
   "metadata": {},
   "outputs": [
    {
     "data": {
      "text/plain": [
       "2    14030\n",
       "1    10585\n",
       "3     4917\n",
       "5      280\n",
       "4      123\n",
       "6       51\n",
       "0       14\n",
       "Name: EDUCATION, dtype: int64"
      ]
     },
     "execution_count": 95,
     "metadata": {},
     "output_type": "execute_result"
    }
   ],
   "source": [
    "df['EDUCATION'].value_counts()"
   ]
  },
  {
   "cell_type": "markdown",
   "metadata": {},
   "source": [
    "1 = graduate school; 2 = university; 3 = high school; 4 = others"
   ]
  },
  {
   "cell_type": "code",
   "execution_count": 96,
   "metadata": {},
   "outputs": [
    {
     "data": {
      "text/plain": [
       "<AxesSubplot:xlabel='EDUCATION', ylabel='count'>"
      ]
     },
     "execution_count": 96,
     "metadata": {},
     "output_type": "execute_result"
    },
    {
     "data": {
      "image/png": "[encoded data removed]",
      "text/plain": [
       "<Figure size 432x288 with 1 Axes>"
      ]
     },
     "metadata": {
      "needs_background": "light"
     },
     "output_type": "display_data"
    }
   ],
   "source": [
    "sns.countplot(x='EDUCATION', data=df)"
   ]
  },
  {
   "cell_type": "code",
   "execution_count": 97,
   "metadata": {},
   "outputs": [
    {
     "data": {
      "text/plain": [
       "2    15964\n",
       "1    13659\n",
       "3      323\n",
       "0       54\n",
       "Name: MARRIAGE, dtype: int64"
      ]
     },
     "execution_count": 97,
     "metadata": {},
     "output_type": "execute_result"
    }
   ],
   "source": [
    "df['MARRIAGE'].value_counts()"
   ]
  },
  {
   "cell_type": "markdown",
   "metadata": {},
   "source": [
    "1 = married; 2 = single; 3 = others"
   ]
  },
  {
   "cell_type": "code",
   "execution_count": 98,
   "metadata": {},
   "outputs": [
    {
     "data": {
      "text/plain": [
       "<AxesSubplot:xlabel='MARRIAGE', ylabel='count'>"
      ]
     },
     "execution_count": 98,
     "metadata": {},
     "output_type": "execute_result"
    },
    {
     "data": {
      "image/png": "[encoded data removed]",
      "text/plain": [
       "<Figure size 432x288 with 1 Axes>"
      ]
     },
     "metadata": {
      "needs_background": "light"
     },
     "output_type": "display_data"
    }
   ],
   "source": [
    "sns.countplot(x='MARRIAGE', data=df)"
   ]
  },
  {
   "cell_type": "code",
   "execution_count": 99,
   "metadata": {},
   "outputs": [],
   "source": [
    "X = df.drop(\"default payment next month\", axis=1)"
   ]
  },
  {
   "cell_type": "code",
   "execution_count": 100,
   "metadata": {},
   "outputs": [
    {
     "data": {
      "image/png": "[encoded data removed]",
      "text/plain": [
       "<Figure size 1440x864 with 2 Axes>"
      ]
     },
     "metadata": {
      "needs_background": "light"
     },
     "output_type": "display_data"
    }
   ],
   "source": [
    "corrMatt = df.corr()\n",
    "# Generate a mask for the upper triangle\n",
    "mask = np.zeros_like(corrMatt)\n",
    "mask[np.triu_indices_from(mask)] = True\n",
    "# Set up the matplotlib figure\n",
    "fig, ax = plt.subplots(figsize=(20, 12))\n",
    "plt.title('Default credit card clients Feature Correlation')\n",
    "# Generate a custom diverging colormap\n",
    "cmap = sns.diverging_palette(260, 10, as_cmap=True)\n",
    "# Draw the heatmap with the mask and correct aspect ratio\n",
    "sns.heatmap(corrMatt, vmax=1.2, square=False, cmap=cmap, mask=mask,\n",
    "ax=ax, annot=True, fmt='.2g', linewidths=1);"
   ]
  },
  {
   "cell_type": "code",
   "execution_count": 101,
   "metadata": {},
   "outputs": [
    {
     "data": {
      "image/png": "[encoded data removed]",
      "text/plain": [
       "<Figure size 432x288 with 1 Axes>"
      ]
     },
     "metadata": {
      "needs_background": "light"
     },
     "output_type": "display_data"
    }
   ],
   "source": [
    "colors = np.random.rand(2)\n",
    "\n",
    "fig=plt.figure()\n",
    "ax=fig.add_axes([0,0,1,1])\n",
    "ax.scatter(df['PAY_AMT1'], df['BILL_AMT2'], color='r')\n",
    "ax.scatter(df['PAY_AMT1'], df['BILL_AMT4'], color='b')\n",
    "ax.set_xlabel('PAY_AMT1')\n",
    "ax.set_ylabel('BILL_AMTount')\n",
    "ax.set_title('scatter plot')\n",
    "plt.show()"
   ]
  },
  {
   "cell_type": "code",
   "execution_count": 102,
   "metadata": {},
   "outputs": [
    {
     "data": {
      "text/html": [
       "<div>\n",
       "<style scoped>\n",
       "    .dataframe tbody tr th:only-of-type {\n",
       "        vertical-align: middle;\n",
       "    }\n",
       "\n",
       "    .dataframe tbody tr th {\n",
       "        vertical-align: top;\n",
       "    }\n",
       "\n",
       "    .dataframe thead th {\n",
       "        text-align: right;\n",
       "    }\n",
       "</style>\n",
       "<table border=\"1\" class=\"dataframe\">\n",
       "  <thead>\n",
       "    <tr style=\"text-align: right;\">\n",
       "      <th></th>\n",
       "      <th>LIMIT_BAL</th>\n",
       "      <th>SEX</th>\n",
       "      <th>EDUCATION</th>\n",
       "      <th>MARRIAGE</th>\n",
       "      <th>AGE</th>\n",
       "      <th>PAY_0</th>\n",
       "      <th>PAY_2</th>\n",
       "      <th>PAY_3</th>\n",
       "      <th>PAY_4</th>\n",
       "      <th>PAY_5</th>\n",
       "      <th>...</th>\n",
       "      <th>BILL_AMT3</th>\n",
       "      <th>BILL_AMT4</th>\n",
       "      <th>BILL_AMT5</th>\n",
       "      <th>BILL_AMT6</th>\n",
       "      <th>PAY_AMT1</th>\n",
       "      <th>PAY_AMT2</th>\n",
       "      <th>PAY_AMT3</th>\n",
       "      <th>PAY_AMT4</th>\n",
       "      <th>PAY_AMT5</th>\n",
       "      <th>PAY_AMT6</th>\n",
       "    </tr>\n",
       "  </thead>\n",
       "  <tbody>\n",
       "    <tr>\n",
       "      <th>0</th>\n",
       "      <td>20000</td>\n",
       "      <td>2</td>\n",
       "      <td>2</td>\n",
       "      <td>1</td>\n",
       "      <td>24</td>\n",
       "      <td>2</td>\n",
       "      <td>2</td>\n",
       "      <td>-1</td>\n",
       "      <td>-1</td>\n",
       "      <td>-2</td>\n",
       "      <td>...</td>\n",
       "      <td>689</td>\n",
       "      <td>0</td>\n",
       "      <td>0</td>\n",
       "      <td>0</td>\n",
       "      <td>0</td>\n",
       "      <td>689</td>\n",
       "      <td>0</td>\n",
       "      <td>0</td>\n",
       "      <td>0</td>\n",
       "      <td>0</td>\n",
       "    </tr>\n",
       "    <tr>\n",
       "      <th>1</th>\n",
       "      <td>120000</td>\n",
       "      <td>2</td>\n",
       "      <td>2</td>\n",
       "      <td>2</td>\n",
       "      <td>26</td>\n",
       "      <td>-1</td>\n",
       "      <td>2</td>\n",
       "      <td>0</td>\n",
       "      <td>0</td>\n",
       "      <td>0</td>\n",
       "      <td>...</td>\n",
       "      <td>2682</td>\n",
       "      <td>3272</td>\n",
       "      <td>3455</td>\n",
       "      <td>3261</td>\n",
       "      <td>0</td>\n",
       "      <td>1000</td>\n",
       "      <td>1000</td>\n",
       "      <td>1000</td>\n",
       "      <td>0</td>\n",
       "      <td>2000</td>\n",
       "    </tr>\n",
       "    <tr>\n",
       "      <th>2</th>\n",
       "      <td>90000</td>\n",
       "      <td>2</td>\n",
       "      <td>2</td>\n",
       "      <td>2</td>\n",
       "      <td>34</td>\n",
       "      <td>0</td>\n",
       "      <td>0</td>\n",
       "      <td>0</td>\n",
       "      <td>0</td>\n",
       "      <td>0</td>\n",
       "      <td>...</td>\n",
       "      <td>13559</td>\n",
       "      <td>14331</td>\n",
       "      <td>14948</td>\n",
       "      <td>15549</td>\n",
       "      <td>1518</td>\n",
       "      <td>1500</td>\n",
       "      <td>1000</td>\n",
       "      <td>1000</td>\n",
       "      <td>1000</td>\n",
       "      <td>5000</td>\n",
       "    </tr>\n",
       "    <tr>\n",
       "      <th>3</th>\n",
       "      <td>50000</td>\n",
       "      <td>2</td>\n",
       "      <td>2</td>\n",
       "      <td>1</td>\n",
       "      <td>37</td>\n",
       "      <td>0</td>\n",
       "      <td>0</td>\n",
       "      <td>0</td>\n",
       "      <td>0</td>\n",
       "      <td>0</td>\n",
       "      <td>...</td>\n",
       "      <td>49291</td>\n",
       "      <td>28314</td>\n",
       "      <td>28959</td>\n",
       "      <td>29547</td>\n",
       "      <td>2000</td>\n",
       "      <td>2019</td>\n",
       "      <td>1200</td>\n",
       "      <td>1100</td>\n",
       "      <td>1069</td>\n",
       "      <td>1000</td>\n",
       "    </tr>\n",
       "    <tr>\n",
       "      <th>4</th>\n",
       "      <td>50000</td>\n",
       "      <td>1</td>\n",
       "      <td>2</td>\n",
       "      <td>1</td>\n",
       "      <td>57</td>\n",
       "      <td>-1</td>\n",
       "      <td>0</td>\n",
       "      <td>-1</td>\n",
       "      <td>0</td>\n",
       "      <td>0</td>\n",
       "      <td>...</td>\n",
       "      <td>35835</td>\n",
       "      <td>20940</td>\n",
       "      <td>19146</td>\n",
       "      <td>19131</td>\n",
       "      <td>2000</td>\n",
       "      <td>36681</td>\n",
       "      <td>10000</td>\n",
       "      <td>9000</td>\n",
       "      <td>689</td>\n",
       "      <td>679</td>\n",
       "    </tr>\n",
       "  </tbody>\n",
       "</table>\n",
       "<p>5 rows × 23 columns</p>\n",
       "</div>"
      ],
      "text/plain": [
       "   LIMIT_BAL  SEX  EDUCATION  MARRIAGE  AGE  PAY_0  PAY_2  PAY_3  PAY_4  \\\n",
       "0      20000    2          2         1   24      2      2     -1     -1   \n",
       "1     120000    2          2         2   26     -1      2      0      0   \n",
       "2      90000    2          2         2   34      0      0      0      0   \n",
       "3      50000    2          2         1   37      0      0      0      0   \n",
       "4      50000    1          2         1   57     -1      0     -1      0   \n",
       "\n",
       "   PAY_5  ...  BILL_AMT3  BILL_AMT4  BILL_AMT5  BILL_AMT6  PAY_AMT1  PAY_AMT2  \\\n",
       "0     -2  ...        689          0          0          0         0       689   \n",
       "1      0  ...       2682       3272       3455       3261         0      1000   \n",
       "2      0  ...      13559      14331      14948      15549      1518      1500   \n",
       "3      0  ...      49291      28314      28959      29547      2000      2019   \n",
       "4      0  ...      35835      20940      19146      19131      2000     36681   \n",
       "\n",
       "   PAY_AMT3  PAY_AMT4  PAY_AMT5  PAY_AMT6  \n",
       "0         0         0         0         0  \n",
       "1      1000      1000         0      2000  \n",
       "2      1000      1000      1000      5000  \n",
       "3      1200      1100      1069      1000  \n",
       "4     10000      9000       689       679  \n",
       "\n",
       "[5 rows x 23 columns]"
      ]
     },
     "execution_count": 102,
     "metadata": {},
     "output_type": "execute_result"
    }
   ],
   "source": [
    "X.head(5)"
   ]
  },
  {
   "cell_type": "code",
   "execution_count": null,
   "metadata": {},
   "outputs": [],
   "source": [
    "from sklearn.preprocessing import LabelEncoder\n",
    "le = LabelEncoder()\n",
    "df['default payment next month'] = le.fit_transform(df['default payment next month'])\n",
    "df.head()\n",
    "# assign numerical label to y\n",
    "y = df['default payment next month']"
   ]
  },
  {
   "cell_type": "code",
   "execution_count": null,
   "metadata": {},
   "outputs": [],
   "source": [
    "from sklearn.model_selection import train_test_split\n",
    "\n",
    "Xs = df\n",
    "# y = y.head(7500)\n",
    "# Xs = Xs[:7500]\n",
    "\n",
    "Xs_train, Xs_test, y_train, y_test = train_test_split(Xs, y, test_size=0.3,\n",
    "random_state=1, stratify=y)"
   ]
  },
  {
   "cell_type": "code",
   "execution_count": 122,
   "metadata": {},
   "outputs": [],
   "source": [
    "from sklearn.tree import DecisionTreeClassifier\n",
    "\n",
    "dt = DecisionTreeClassifier(max_depth=10).fit(Xs_train, y_train)\n",
    "y_pred = dt.predict(Xs_test)"
   ]
  },
  {
   "cell_type": "code",
   "execution_count": 125,
   "metadata": {},
   "outputs": [
    {
     "data": {
      "text/plain": [
       "array([[6513,  496],\n",
       "       [1214,  777]], dtype=int64)"
      ]
     },
     "execution_count": 125,
     "metadata": {},
     "output_type": "execute_result"
    }
   ],
   "source": [
    "from sklearn import metrics\n",
    "\n",
    "cnf_matrix = metrics.confusion_matrix(y_test, y_pred)\n",
    "cnf_matrix"
   ]
  },
  {
   "cell_type": "code",
   "execution_count": 126,
   "metadata": {},
   "outputs": [
    {
     "data": {
      "text/plain": [
       "0.81"
      ]
     },
     "execution_count": 126,
     "metadata": {},
     "output_type": "execute_result"
    }
   ],
   "source": [
    "metrics.accuracy_score(y_test, y_pred)"
   ]
  },
  {
   "cell_type": "code",
   "execution_count": 103,
   "metadata": {},
   "outputs": [
    {
     "data": {
      "text/plain": [
       "<AxesSubplot:>"
      ]
     },
     "execution_count": 103,
     "metadata": {},
     "output_type": "execute_result"
    },
    {
     "data": {
      "image/png": "[encoded data removed]",
      "text/plain": [
       "<Figure size 1440x576 with 1 Axes>"
      ]
     },
     "metadata": {
      "needs_background": "light"
     },
     "output_type": "display_data"
    }
   ],
   "source": [
    "from sklearn.preprocessing import StandardScaler\n",
    "scaler = StandardScaler()\n",
    "Xs = scaler.fit_transform(X)\n",
    "fig,ax=plt.subplots(1,figsize=(20,8))\n",
    "sns.boxplot(data=Xs,ax=ax)"
   ]
  },
  {
   "cell_type": "code",
   "execution_count": 104,
   "metadata": {},
   "outputs": [],
   "source": [
    "from sklearn.preprocessing import LabelEncoder\n",
    "le = LabelEncoder()\n",
    "df['default payment next month'] = le.fit_transform(df['default payment next month'])\n",
    "df.head()\n",
    "# assign numerical label to y\n",
    "y = df['default payment next month']"
   ]
  },
  {
   "cell_type": "code",
   "execution_count": 105,
   "metadata": {},
   "outputs": [],
   "source": [
    "from sklearn.model_selection import train_test_split\n",
    "\n",
    "# y = y.head(7500)\n",
    "# Xs = Xs[:7500]\n",
    "\n",
    "Xs_train, Xs_test, y_train, y_test = train_test_split(Xs, y, test_size=0.3,\n",
    "random_state=1, stratify=y)"
   ]
  },
  {
   "cell_type": "code",
   "execution_count": 106,
   "metadata": {},
   "outputs": [
    {
     "data": {
      "text/plain": [
       "SVC(gamma='auto', probability=True)"
      ]
     },
     "execution_count": 106,
     "metadata": {},
     "output_type": "execute_result"
    }
   ],
   "source": [
    "from sklearn.svm import SVC\n",
    "clf = SVC(C=1.0, kernel='rbf', degree=3, gamma='auto', probability=True)\n",
    "clf.fit(Xs_train, y_train)"
   ]
  },
  {
   "cell_type": "code",
   "execution_count": 107,
   "metadata": {},
   "outputs": [
    {
     "name": "stdout",
     "output_type": "stream",
     "text": [
      "The classifier accuracy score is 0.82\n"
     ]
    }
   ],
   "source": [
    "classifier_score = clf.score(Xs_test, y_test)\n",
    "print('The classifier accuracy score is {:03.2f}'.format(classifier_score))"
   ]
  },
  {
   "cell_type": "code",
   "execution_count": null,
   "metadata": {},
   "outputs": [],
   "source": [
    "from sklearn.model_selection import KFold\n",
    "import time\n",
    "import os\n",
    "\n",
    "kf = KFold(n_splits=5)\n",
    "k=1\n",
    "\n",
    "root_logdir = os.path.join(os.curdir, \"my_logs\")\n",
    "def get_run_logdir():\n",
    "    run_id = time.strftime(\"run_%Y_%m_%d-%H_%M_%S\")\n",
    "    return os.path.join(root_logdir, run_id)\n",
    "\n",
    "run_logdir = get_run_logdir() \n",
    "\n",
    "for train_index, test_index in kf.split(Xs):\n",
    "    print(\"fold\",k)\n",
    " \n",
    "    X_train, X_test = Xs[train_index], Xs[test_index]\n",
    "    y_train, y_test = y[train_index], y[test_index]\n",
    "\n",
    "    # training and validation\n",
    "    clf.fit(np.array(X_train), np.array(y_train))\n",
    "\n",
    "    # evaluate the accuracy of each fold\n",
    "    y_pred = clf.predict(X_test)\n",
    "    score = metrics.accuracy_score(y_test, y_pred)\n",
    "    print(\"%s: %.2f%%\" % (\"Classification accuracy\", score*100))\n",
    "    k=k+1"
   ]
  },
  {
   "cell_type": "code",
   "execution_count": 108,
   "metadata": {},
   "outputs": [],
   "source": [
    "def setDifference(F: list, X:list):\n",
    "    \n",
    "    for x in X:\n",
    "\n",
    "        for f in F:\n",
    "            if x == f:\n",
    "                F.remove(f)\n",
    "                break\n",
    "\n",
    "    return F"
   ]
  },
  {
   "cell_type": "code",
   "execution_count": 109,
   "metadata": {},
   "outputs": [],
   "source": [
    "def scoreFeatures(toDrop:list):\n",
    "\n",
    "    X = df.drop(\"default payment next month\", axis=1)\n",
    "\n",
    "    for d in toDrop:\n",
    "        X.drop(d, axis=1)\n",
    "\n",
    "    scaler = StandardScaler()\n",
    "    Xs = scaler.fit_transform(X)\n",
    "\n",
    "    y = None\n",
    "\n",
    "\n",
    "    le = LabelEncoder()\n",
    "    df['default payment next month'] = le.fit_transform(df['default payment next month'])\n",
    "    df.head()\n",
    "    # assign numerical label to y\n",
    "    y = df['default payment next month']\n",
    "\n",
    "    # y = y.head(7500)\n",
    "    # Xs = Xs[:7500]\n",
    "\n",
    "    Xs_train, Xs_test, y_train, y_test = train_test_split(Xs, y, test_size=0.3,\n",
    "    random_state=1, stratify=y)\n",
    "\n",
    "    clf = SVC(C=1.0, kernel='rbf', degree=3, gamma='auto', probability=True)\n",
    "    clf.fit(Xs_train, y_train)\n",
    "\n",
    "    classifier_score = clf.score(Xs_test, y_test)\n",
    "    print(\"Excluded: \",toDrop,' The classifier accuracy score is {:03.2f}'.format(classifier_score))\n",
    "\n",
    "    return classifier_score "
   ]
  },
  {
   "cell_type": "code",
   "execution_count": 110,
   "metadata": {},
   "outputs": [
    {
     "name": "stdout",
     "output_type": "stream",
     "text": [
      "Excluded:  ['MARRIAGE']  The classifier accuracy score is 0.82\n"
     ]
    },
    {
     "data": {
      "text/plain": [
       "0.8181111111111111"
      ]
     },
     "execution_count": 110,
     "metadata": {},
     "output_type": "execute_result"
    }
   ],
   "source": [
    "scoreFeatures(['MARRIAGE'])"
   ]
  },
  {
   "cell_type": "code",
   "execution_count": 111,
   "metadata": {},
   "outputs": [],
   "source": [
    "# features = list(df.columns)\n",
    "# features.remove('default payment next month')\n",
    "\n",
    "# selectedFeatures = []\n",
    "\n",
    "# while len(selectedFeatures) != len(features):\n",
    "    \n",
    "#     b = 0\n",
    "#     y = []\n",
    "#     tmpF = setDifference(features, selectedFeatures)\n",
    "\n",
    "#     for f in tmpF:\n",
    "#         tmpX = selectedFeatures\n",
    "#         tmpX.append(f)\n",
    "#         toExclude = setDifference(features, tmpX)\n",
    "#         m = scoreFeatures(toExclude)\n",
    "\n",
    "#         if m > b:\n",
    "#             b = m\n",
    "#             y_score = tmpX\n",
    "\n",
    "#     toExclude = setDifference(features, selectedFeatures)\n",
    "#     m = scoreFeatures(toExclude)\n",
    "\n",
    "#     if m > b:\n",
    "#         break\n",
    "#     else:\n",
    "#         selectedFeatures = y_score\n",
    "\n",
    "# print(\"selectedFeatures: \",selectedFeatures)\n"
   ]
  },
  {
   "cell_type": "code",
   "execution_count": 112,
   "metadata": {},
   "outputs": [],
   "source": [
    "from sklearn.linear_model import LogisticRegression\n",
    "clf = LogisticRegression()"
   ]
  },
  {
   "cell_type": "code",
   "execution_count": 113,
   "metadata": {},
   "outputs": [
    {
     "name": "stdout",
     "output_type": "stream",
     "text": [
      "Num Features: 11\n",
      "Selected Features: [ True False  True  True False  True  True  True False False False  True\n",
      "  True  True False False False  True  True False False False False]\n",
      "Feature Ranking: [ 1  7  1  1  2  1  1  1 10  3 13  1  1  1 12  5 11  1  1  6  4  8  9]\n"
     ]
    }
   ],
   "source": [
    "from sklearn.feature_selection import RFE\n",
    "rfe = RFE(clf)\n",
    "fit = rfe.fit(Xs, y)\n",
    "print(\"Num Features: %s\" % (fit.n_features_))\n",
    "print(\"Selected Features: %s\" % (fit.support_))\n",
    "print(\"Feature Ranking: %s\" % (fit.ranking_))"
   ]
  },
  {
   "cell_type": "code",
   "execution_count": 116,
   "metadata": {},
   "outputs": [],
   "source": [
    "clf = LogisticRegression()\n",
    "clf.fit(Xs_train, y_train)\n",
    "y_pred = clf.predict(Xs_test)"
   ]
  },
  {
   "cell_type": "code",
   "execution_count": 119,
   "metadata": {},
   "outputs": [
    {
     "data": {
      "text/plain": [
       "array([[6810,  199],\n",
       "       [1502,  489]], dtype=int64)"
      ]
     },
     "execution_count": 119,
     "metadata": {},
     "output_type": "execute_result"
    }
   ],
   "source": [
    "from sklearn import metrics\n",
    "\n",
    "cnf_matrix = metrics.confusion_matrix(y_test, y_pred)\n",
    "cnf_matrix"
   ]
  },
  {
   "cell_type": "markdown",
   "metadata": {},
   "source": [
    "81.1% classifacation accuracy"
   ]
  },
  {
   "cell_type": "code",
   "execution_count": 121,
   "metadata": {},
   "outputs": [
    {
     "data": {
      "text/plain": [
       "0.811"
      ]
     },
     "execution_count": 121,
     "metadata": {},
     "output_type": "execute_result"
    }
   ],
   "source": [
    "metrics.accuracy_score(y_test, y_pred)"
   ]
  },
  {
   "cell_type": "code",
   "execution_count": 80,
   "metadata": {},
   "outputs": [],
   "source": [
    "from sklearn.model_selection import KFold\n",
    "import time\n",
    "import os"
   ]
  },
  {
   "cell_type": "code",
   "execution_count": 81,
   "metadata": {},
   "outputs": [],
   "source": [
    "root_logdir = os.path.join(os.curdir, \"my_logs\")\n",
    "def get_run_logdir():\n",
    "    run_id = time.strftime(\"run_%Y_%m_%d-%H_%M_%S\")\n",
    "    return os.path.join(root_logdir, run_id)\n",
    "\n",
    "run_logdir = get_run_logdir() "
   ]
  },
  {
   "cell_type": "code",
   "execution_count": 140,
   "metadata": {},
   "outputs": [],
   "source": [
    "kf = KFold(n_splits=5)\n",
    "k=1"
   ]
  },
  {
   "cell_type": "code",
   "execution_count": 141,
   "metadata": {},
   "outputs": [
    {
     "name": "stdout",
     "output_type": "stream",
     "text": [
      "fold 1\n",
      "Classification accuracy: 80.47%\n",
      "fold 2\n",
      "Classification accuracy: 79.83%\n",
      "fold 3\n",
      "Classification accuracy: 79.87%\n",
      "fold 4\n",
      "Classification accuracy: 82.77%\n",
      "fold 5\n",
      "Classification accuracy: 81.92%\n"
     ]
    }
   ],
   "source": [
    "for train_index, test_index in kf.split(Xs):\n",
    "    print(\"fold\",k)\n",
    " \n",
    "    X_train, X_test = Xs[train_index], Xs[test_index]\n",
    "    y_train, y_test = y[train_index], y[test_index]\n",
    "\n",
    "    # training and validation\n",
    "    clf.fit(np.array(X_train), np.array(y_train))\n",
    "\n",
    "    # evaluate the accuracy of each fold\n",
    "    y_pred = clf.predict(X_test)\n",
    "    score = metrics.accuracy_score(y_test, y_pred)\n",
    "    print(\"%s: %.2f%%\" % (\"Classification accuracy\", score*100))\n",
    "    k=k+1"
   ]
  },
  {
   "cell_type": "code",
   "execution_count": 129,
   "metadata": {},
   "outputs": [
    {
     "name": "stdout",
     "output_type": "stream",
     "text": [
      "Model: \"sequential\"\n",
      "_________________________________________________________________\n",
      " Layer (type)                Output Shape              Param #   \n",
      "=================================================================\n",
      " dense (Dense)               (None, 10)                240       \n",
      "                                                                 \n",
      " dense_1 (Dense)             (None, 1)                 11        \n",
      "                                                                 \n",
      "=================================================================\n",
      "Total params: 251\n",
      "Trainable params: 251\n",
      "Non-trainable params: 0\n",
      "_________________________________________________________________\n"
     ]
    }
   ],
   "source": [
    "from tensorflow import keras\n",
    "\n",
    "model=keras.models.Sequential()\n",
    "model.add(keras.layers.Dense(10, input_dim=23,activation=\"relu\"))\n",
    "model.add(keras.layers.Dense(1,activation='relu'))\n",
    "model.summary()"
   ]
  },
  {
   "cell_type": "code",
   "execution_count": 130,
   "metadata": {},
   "outputs": [],
   "source": [
    "model.compile(loss=\"binary_crossentropy\", optimizer=\"sgd\",\n",
    "metrics=[\"accuracy\"])\n",
    "# save the initial weight for initilise new models in cross validation\n",
    "model.save_weights('model.h5')\n"
   ]
  },
  {
   "cell_type": "code",
   "execution_count": 132,
   "metadata": {},
   "outputs": [],
   "source": [
    "\n",
    "Xs_train, Xs_test, y_train, y_test = train_test_split(Xs, y, test_size=0.2,\n",
    "random_state=1, stratify=y)"
   ]
  },
  {
   "cell_type": "code",
   "execution_count": 133,
   "metadata": {},
   "outputs": [
    {
     "name": "stdout",
     "output_type": "stream",
     "text": [
      "Epoch 1/50\n",
      "750/750 [==============================] - 2s 2ms/step - loss: 3.2523 - accuracy: 0.7745 - val_loss: 3.4880 - val_accuracy: 0.7442\n",
      "Epoch 2/50\n",
      "750/750 [==============================] - 2s 2ms/step - loss: 3.3930 - accuracy: 0.7668 - val_loss: 3.4115 - val_accuracy: 0.7788\n",
      "Epoch 3/50\n",
      "750/750 [==============================] - 2s 2ms/step - loss: 3.4121 - accuracy: 0.7788 - val_loss: 3.4115 - val_accuracy: 0.7788\n",
      "Epoch 4/50\n",
      "750/750 [==============================] - 2s 2ms/step - loss: 3.4121 - accuracy: 0.7788 - val_loss: 3.4115 - val_accuracy: 0.7788\n",
      "Epoch 5/50\n",
      "750/750 [==============================] - 2s 2ms/step - loss: 3.4121 - accuracy: 0.7788 - val_loss: 3.4115 - val_accuracy: 0.7788\n",
      "Epoch 6/50\n",
      "750/750 [==============================] - 2s 2ms/step - loss: 3.4121 - accuracy: 0.7788 - val_loss: 3.4115 - val_accuracy: 0.7788\n",
      "Epoch 7/50\n",
      "750/750 [==============================] - 2s 2ms/step - loss: 3.4121 - accuracy: 0.7788 - val_loss: 3.4115 - val_accuracy: 0.7788\n",
      "Epoch 8/50\n",
      "750/750 [==============================] - 2s 2ms/step - loss: 3.4121 - accuracy: 0.7788 - val_loss: 3.4115 - val_accuracy: 0.7788\n",
      "Epoch 9/50\n",
      "750/750 [==============================] - 2s 2ms/step - loss: 3.4121 - accuracy: 0.7788 - val_loss: 3.4115 - val_accuracy: 0.7788\n",
      "Epoch 10/50\n",
      "750/750 [==============================] - 2s 2ms/step - loss: 3.4121 - accuracy: 0.7788 - val_loss: 3.4115 - val_accuracy: 0.7788\n",
      "Epoch 11/50\n",
      "750/750 [==============================] - 2s 2ms/step - loss: 3.4121 - accuracy: 0.7788 - val_loss: 3.4115 - val_accuracy: 0.7788\n",
      "Epoch 12/50\n",
      "750/750 [==============================] - 2s 2ms/step - loss: 3.4121 - accuracy: 0.7788 - val_loss: 3.4115 - val_accuracy: 0.7788\n",
      "Epoch 13/50\n",
      "750/750 [==============================] - 2s 2ms/step - loss: 3.4121 - accuracy: 0.7788 - val_loss: 3.4115 - val_accuracy: 0.7788\n",
      "Epoch 14/50\n",
      "750/750 [==============================] - 2s 2ms/step - loss: 3.4121 - accuracy: 0.7788 - val_loss: 3.4115 - val_accuracy: 0.7788\n",
      "Epoch 15/50\n",
      "750/750 [==============================] - 2s 2ms/step - loss: 3.4121 - accuracy: 0.7788 - val_loss: 3.4115 - val_accuracy: 0.7788\n",
      "Epoch 16/50\n",
      "750/750 [==============================] - 2s 2ms/step - loss: 3.4121 - accuracy: 0.7788 - val_loss: 3.4115 - val_accuracy: 0.7788\n",
      "Epoch 17/50\n",
      "750/750 [==============================] - 2s 2ms/step - loss: 3.4121 - accuracy: 0.7788 - val_loss: 3.4115 - val_accuracy: 0.7788\n",
      "Epoch 18/50\n",
      "750/750 [==============================] - 2s 2ms/step - loss: 3.4121 - accuracy: 0.7788 - val_loss: 3.4115 - val_accuracy: 0.7788\n",
      "Epoch 19/50\n",
      "750/750 [==============================] - 2s 2ms/step - loss: 3.4121 - accuracy: 0.7788 - val_loss: 3.4115 - val_accuracy: 0.7788\n",
      "Epoch 20/50\n",
      "750/750 [==============================] - 2s 2ms/step - loss: 3.4121 - accuracy: 0.7788 - val_loss: 3.4115 - val_accuracy: 0.7788\n",
      "Epoch 21/50\n",
      "750/750 [==============================] - 2s 2ms/step - loss: 3.4121 - accuracy: 0.7788 - val_loss: 3.4115 - val_accuracy: 0.7788\n",
      "Epoch 22/50\n",
      "750/750 [==============================] - 2s 2ms/step - loss: 3.4121 - accuracy: 0.7788 - val_loss: 3.4115 - val_accuracy: 0.7788\n",
      "Epoch 23/50\n",
      "750/750 [==============================] - 2s 2ms/step - loss: 3.4121 - accuracy: 0.7788 - val_loss: 3.4115 - val_accuracy: 0.7788\n",
      "Epoch 24/50\n",
      "750/750 [==============================] - 2s 2ms/step - loss: 3.4121 - accuracy: 0.7788 - val_loss: 3.4115 - val_accuracy: 0.7788\n",
      "Epoch 25/50\n",
      "750/750 [==============================] - 2s 2ms/step - loss: 3.4121 - accuracy: 0.7788 - val_loss: 3.4115 - val_accuracy: 0.7788\n",
      "Epoch 26/50\n",
      "750/750 [==============================] - 2s 2ms/step - loss: 3.4121 - accuracy: 0.7788 - val_loss: 3.4115 - val_accuracy: 0.7788\n",
      "Epoch 27/50\n",
      "750/750 [==============================] - 2s 2ms/step - loss: 3.4121 - accuracy: 0.7788 - val_loss: 3.4115 - val_accuracy: 0.7788\n",
      "Epoch 28/50\n",
      "750/750 [==============================] - 2s 2ms/step - loss: 3.4121 - accuracy: 0.7788 - val_loss: 3.4115 - val_accuracy: 0.7788\n",
      "Epoch 29/50\n",
      "750/750 [==============================] - 2s 2ms/step - loss: 3.4121 - accuracy: 0.7788 - val_loss: 3.4115 - val_accuracy: 0.7788\n",
      "Epoch 30/50\n",
      "750/750 [==============================] - 2s 2ms/step - loss: 3.4121 - accuracy: 0.7788 - val_loss: 3.4115 - val_accuracy: 0.7788\n",
      "Epoch 31/50\n",
      "750/750 [==============================] - 2s 2ms/step - loss: 3.4121 - accuracy: 0.7788 - val_loss: 3.4115 - val_accuracy: 0.7788\n",
      "Epoch 32/50\n",
      "750/750 [==============================] - 2s 2ms/step - loss: 3.4121 - accuracy: 0.7788 - val_loss: 3.4115 - val_accuracy: 0.7788\n",
      "Epoch 33/50\n",
      "750/750 [==============================] - 2s 2ms/step - loss: 3.4121 - accuracy: 0.7788 - val_loss: 3.4115 - val_accuracy: 0.7788\n",
      "Epoch 34/50\n",
      "750/750 [==============================] - 2s 2ms/step - loss: 3.4121 - accuracy: 0.7788 - val_loss: 3.4115 - val_accuracy: 0.7788\n",
      "Epoch 35/50\n",
      "750/750 [==============================] - 2s 2ms/step - loss: 3.4121 - accuracy: 0.7788 - val_loss: 3.4115 - val_accuracy: 0.7788\n",
      "Epoch 36/50\n",
      "750/750 [==============================] - 2s 2ms/step - loss: 3.4121 - accuracy: 0.7788 - val_loss: 3.4115 - val_accuracy: 0.7788\n",
      "Epoch 37/50\n",
      "750/750 [==============================] - 2s 2ms/step - loss: 3.4121 - accuracy: 0.7788 - val_loss: 3.4115 - val_accuracy: 0.7788\n",
      "Epoch 38/50\n",
      "750/750 [==============================] - 2s 3ms/step - loss: 3.4121 - accuracy: 0.7788 - val_loss: 3.4115 - val_accuracy: 0.7788\n",
      "Epoch 39/50\n",
      "750/750 [==============================] - 2s 3ms/step - loss: 3.4121 - accuracy: 0.7788 - val_loss: 3.4115 - val_accuracy: 0.7788\n",
      "Epoch 40/50\n",
      "750/750 [==============================] - 2s 3ms/step - loss: 3.4121 - accuracy: 0.7788 - val_loss: 3.4115 - val_accuracy: 0.7788\n",
      "Epoch 41/50\n",
      "750/750 [==============================] - 2s 3ms/step - loss: 3.4121 - accuracy: 0.7788 - val_loss: 3.4115 - val_accuracy: 0.7788\n",
      "Epoch 42/50\n",
      "750/750 [==============================] - 2s 2ms/step - loss: 3.4121 - accuracy: 0.7788 - val_loss: 3.4115 - val_accuracy: 0.7788\n",
      "Epoch 43/50\n",
      "750/750 [==============================] - 2s 2ms/step - loss: 3.4121 - accuracy: 0.7788 - val_loss: 3.4115 - val_accuracy: 0.7788\n",
      "Epoch 44/50\n",
      "750/750 [==============================] - 2s 2ms/step - loss: 3.4121 - accuracy: 0.7788 - val_loss: 3.4115 - val_accuracy: 0.7788\n",
      "Epoch 45/50\n",
      "750/750 [==============================] - 2s 2ms/step - loss: 3.4121 - accuracy: 0.7788 - val_loss: 3.4115 - val_accuracy: 0.7788\n",
      "Epoch 46/50\n",
      "750/750 [==============================] - 2s 3ms/step - loss: 3.4121 - accuracy: 0.7788 - val_loss: 3.4115 - val_accuracy: 0.7788\n",
      "Epoch 47/50\n",
      "750/750 [==============================] - 2s 2ms/step - loss: 3.4121 - accuracy: 0.7788 - val_loss: 3.4115 - val_accuracy: 0.7788\n",
      "Epoch 48/50\n",
      "750/750 [==============================] - 2s 2ms/step - loss: 3.4121 - accuracy: 0.7788 - val_loss: 3.4115 - val_accuracy: 0.7788\n",
      "Epoch 49/50\n",
      "750/750 [==============================] - 2s 2ms/step - loss: 3.4121 - accuracy: 0.7788 - val_loss: 3.4115 - val_accuracy: 0.7788\n",
      "Epoch 50/50\n",
      "750/750 [==============================] - 2s 2ms/step - loss: 3.4121 - accuracy: 0.7788 - val_loss: 3.4115 - val_accuracy: 0.7788\n"
     ]
    }
   ],
   "source": [
    "# Now we can start the training\n",
    "# Tensorflow/Keras uses np array, so need to convert the data format\n",
    "#make sure the weights are initialised\n",
    "model.load_weights('model.h5')\n",
    "history= model.fit(np.array(Xs_train), np.array(y_train), epochs=50,\n",
    "validation_data=(np.array(Xs_test), np.array(y_test)))\n"
   ]
  },
  {
   "cell_type": "code",
   "execution_count": 134,
   "metadata": {},
   "outputs": [
    {
     "data": {
      "image/png": "[encoded data removed]",
      "text/plain": [
       "<Figure size 576x360 with 1 Axes>"
      ]
     },
     "metadata": {
      "needs_background": "light"
     },
     "output_type": "display_data"
    }
   ],
   "source": [
    "pd.DataFrame(history.history).plot(figsize=(8, 5))\n",
    "plt.grid(True)\n",
    "plt.gca().set_ylim(0, 1) \n",
    "plt.show()"
   ]
  },
  {
   "cell_type": "code",
   "execution_count": 135,
   "metadata": {},
   "outputs": [],
   "source": [
    "from sklearn.model_selection import KFold\n",
    "import os\n",
    "import time\n",
    "\n",
    "root_logdir = os.path.join(os.curdir, \"my_logs\")\n",
    "def get_run_logdir():\n",
    " run_id = time.strftime(\"run_%Y_%m_%d-%H_%M_%S\")\n",
    " return os.path.join(root_logdir, run_id)\n",
    " \n",
    "run_logdir = get_run_logdir() "
   ]
  },
  {
   "cell_type": "code",
   "execution_count": 136,
   "metadata": {},
   "outputs": [],
   "source": [
    "kf = KFold(n_splits=5)\n",
    "k=1\n"
   ]
  },
  {
   "cell_type": "code",
   "execution_count": 137,
   "metadata": {},
   "outputs": [
    {
     "name": "stdout",
     "output_type": "stream",
     "text": [
      "fold 1\n",
      "Epoch 1/10\n",
      "750/750 [==============================] - 2s 2ms/step - loss: 2.9782 - accuracy: 0.7712 - val_loss: 3.3755 - val_accuracy: 0.7812\n",
      "Epoch 2/10\n",
      "750/750 [==============================] - 2s 2ms/step - loss: 3.4211 - accuracy: 0.7782 - val_loss: 3.3755 - val_accuracy: 0.7812\n",
      "Epoch 3/10\n",
      "750/750 [==============================] - 2s 2ms/step - loss: 3.4211 - accuracy: 0.7782 - val_loss: 3.3755 - val_accuracy: 0.7812\n",
      "Epoch 4/10\n",
      "750/750 [==============================] - 2s 2ms/step - loss: 3.4211 - accuracy: 0.7782 - val_loss: 3.3755 - val_accuracy: 0.7812\n",
      "Epoch 5/10\n",
      "750/750 [==============================] - 2s 2ms/step - loss: 3.4211 - accuracy: 0.7782 - val_loss: 3.3755 - val_accuracy: 0.7812\n",
      "Epoch 6/10\n",
      "750/750 [==============================] - 2s 2ms/step - loss: 3.4211 - accuracy: 0.7782 - val_loss: 3.3755 - val_accuracy: 0.7812\n",
      "Epoch 7/10\n",
      "750/750 [==============================] - 2s 2ms/step - loss: 3.4211 - accuracy: 0.7782 - val_loss: 3.3755 - val_accuracy: 0.7812\n",
      "Epoch 8/10\n",
      "750/750 [==============================] - 2s 2ms/step - loss: 3.4211 - accuracy: 0.7782 - val_loss: 3.3755 - val_accuracy: 0.7812\n",
      "Epoch 9/10\n",
      "750/750 [==============================] - 2s 2ms/step - loss: 3.4211 - accuracy: 0.7782 - val_loss: 3.3755 - val_accuracy: 0.7812\n",
      "Epoch 10/10\n",
      "750/750 [==============================] - 2s 2ms/step - loss: 3.4211 - accuracy: 0.7782 - val_loss: 3.3755 - val_accuracy: 0.7812\n",
      "accuracy: 78.12%\n",
      "fold 2\n",
      "Epoch 1/10\n",
      "750/750 [==============================] - 2s 2ms/step - loss: 3.3963 - accuracy: 0.7638 - val_loss: 3.4245 - val_accuracy: 0.7457\n",
      "Epoch 2/10\n",
      "750/750 [==============================] - 2s 2ms/step - loss: 2.9009 - accuracy: 0.7737 - val_loss: 3.5567 - val_accuracy: 0.7690\n",
      "Epoch 3/10\n",
      "750/750 [==============================] - 2s 2ms/step - loss: 3.3884 - accuracy: 0.7798 - val_loss: 3.5564 - val_accuracy: 0.7692\n",
      "Epoch 4/10\n",
      "750/750 [==============================] - 2s 2ms/step - loss: 3.3793 - accuracy: 0.7807 - val_loss: 3.5537 - val_accuracy: 0.7693\n",
      "Epoch 5/10\n",
      "750/750 [==============================] - 2s 2ms/step - loss: 3.3827 - accuracy: 0.7802 - val_loss: 3.5585 - val_accuracy: 0.7682\n",
      "Epoch 6/10\n",
      "750/750 [==============================] - 2s 2ms/step - loss: 3.3799 - accuracy: 0.7805 - val_loss: 3.5555 - val_accuracy: 0.7695\n",
      "Epoch 7/10\n",
      "750/750 [==============================] - 2s 2ms/step - loss: 3.3776 - accuracy: 0.7807 - val_loss: 3.5655 - val_accuracy: 0.7678\n",
      "Epoch 8/10\n",
      "750/750 [==============================] - 2s 2ms/step - loss: 3.3869 - accuracy: 0.7798 - val_loss: 3.5610 - val_accuracy: 0.7680\n",
      "Epoch 9/10\n",
      "750/750 [==============================] - 2s 2ms/step - loss: 3.3788 - accuracy: 0.7805 - val_loss: 3.5557 - val_accuracy: 0.7693\n",
      "Epoch 10/10\n",
      "750/750 [==============================] - 2s 2ms/step - loss: 3.3773 - accuracy: 0.7808 - val_loss: 3.5510 - val_accuracy: 0.7695\n",
      "accuracy: 76.95%\n",
      "fold 3\n",
      "Epoch 1/10\n",
      "750/750 [==============================] - 2s 2ms/step - loss: 3.1611 - accuracy: 0.7620 - val_loss: 3.7457 - val_accuracy: 0.7572\n",
      "Epoch 2/10\n",
      "750/750 [==============================] - 2s 2ms/step - loss: 3.3286 - accuracy: 0.7842 - val_loss: 3.7457 - val_accuracy: 0.7572\n",
      "Epoch 3/10\n",
      "750/750 [==============================] - 2s 2ms/step - loss: 3.3286 - accuracy: 0.7842 - val_loss: 3.7457 - val_accuracy: 0.7572\n",
      "Epoch 4/10\n",
      "750/750 [==============================] - 2s 2ms/step - loss: 3.3286 - accuracy: 0.7842 - val_loss: 3.7457 - val_accuracy: 0.7572\n",
      "Epoch 5/10\n",
      "750/750 [==============================] - 2s 2ms/step - loss: 3.3286 - accuracy: 0.7842 - val_loss: 3.7457 - val_accuracy: 0.7572\n",
      "Epoch 6/10\n",
      "750/750 [==============================] - 2s 2ms/step - loss: 3.3286 - accuracy: 0.7842 - val_loss: 3.7457 - val_accuracy: 0.7572\n",
      "Epoch 7/10\n",
      "750/750 [==============================] - 2s 2ms/step - loss: 3.3286 - accuracy: 0.7842 - val_loss: 3.7457 - val_accuracy: 0.7572\n",
      "Epoch 8/10\n",
      "750/750 [==============================] - 2s 2ms/step - loss: 3.3286 - accuracy: 0.7842 - val_loss: 3.7457 - val_accuracy: 0.7572\n",
      "Epoch 9/10\n",
      "750/750 [==============================] - 2s 2ms/step - loss: 3.3286 - accuracy: 0.7842 - val_loss: 3.7457 - val_accuracy: 0.7572\n",
      "Epoch 10/10\n",
      "750/750 [==============================] - 2s 2ms/step - loss: 3.3286 - accuracy: 0.7842 - val_loss: 3.7457 - val_accuracy: 0.7572\n",
      "accuracy: 75.72%\n",
      "fold 4\n",
      "Epoch 1/10\n",
      "750/750 [==============================] - 2s 2ms/step - loss: 3.8077 - accuracy: 0.7357 - val_loss: 3.1334 - val_accuracy: 0.7958\n",
      "Epoch 2/10\n",
      "750/750 [==============================] - 2s 2ms/step - loss: 3.4787 - accuracy: 0.7741 - val_loss: 3.1347 - val_accuracy: 0.7967\n",
      "Epoch 3/10\n",
      "750/750 [==============================] - 2s 2ms/step - loss: 3.4784 - accuracy: 0.7742 - val_loss: 3.1341 - val_accuracy: 0.7967\n",
      "Epoch 4/10\n",
      "750/750 [==============================] - 2s 2ms/step - loss: 3.4929 - accuracy: 0.7717 - val_loss: 3.1727 - val_accuracy: 0.7885\n",
      "Epoch 5/10\n",
      "750/750 [==============================] - 2s 2ms/step - loss: 3.4735 - accuracy: 0.7729 - val_loss: 3.1268 - val_accuracy: 0.7950\n",
      "Epoch 6/10\n",
      "750/750 [==============================] - 2s 2ms/step - loss: 3.4680 - accuracy: 0.7741 - val_loss: 3.1225 - val_accuracy: 0.7952\n",
      "Epoch 7/10\n",
      "750/750 [==============================] - 2s 3ms/step - loss: 4.3733 - accuracy: 0.7014 - val_loss: 7.8878 - val_accuracy: 0.4728\n",
      "Epoch 8/10\n",
      "750/750 [==============================] - 2s 2ms/step - loss: 6.6146 - accuracy: 0.5523 - val_loss: 6.6116 - val_accuracy: 0.5538\n",
      "Epoch 9/10\n",
      "750/750 [==============================] - 2s 2ms/step - loss: 5.6028 - accuracy: 0.6231 - val_loss: 5.3799 - val_accuracy: 0.6398\n",
      "Epoch 10/10\n",
      "750/750 [==============================] - 2s 2ms/step - loss: 4.6835 - accuracy: 0.6898 - val_loss: 3.6577 - val_accuracy: 0.7577\n",
      "accuracy: 75.77%\n",
      "fold 5\n",
      "Epoch 1/10\n",
      "750/750 [==============================] - 2s 2ms/step - loss: 8.5671 - accuracy: 0.4207 - val_loss: 11.8936 - val_accuracy: 0.2200\n",
      "Epoch 2/10\n",
      "750/750 [==============================] - 2s 2ms/step - loss: 11.5104 - accuracy: 0.2451 - val_loss: 11.6908 - val_accuracy: 0.2333\n",
      "Epoch 3/10\n",
      "750/750 [==============================] - 2s 2ms/step - loss: 11.4584 - accuracy: 0.2487 - val_loss: 11.6466 - val_accuracy: 0.2358\n",
      "Epoch 4/10\n",
      "750/750 [==============================] - 2s 2ms/step - loss: 11.4120 - accuracy: 0.2517 - val_loss: 11.5921 - val_accuracy: 0.2400\n",
      "Epoch 5/10\n",
      "750/750 [==============================] - 2s 2ms/step - loss: 11.1559 - accuracy: 0.2682 - val_loss: 10.8166 - val_accuracy: 0.2907\n",
      "Epoch 6/10\n",
      "750/750 [==============================] - 2s 3ms/step - loss: 10.6232 - accuracy: 0.3036 - val_loss: 10.8112 - val_accuracy: 0.2912\n",
      "Epoch 7/10\n",
      "750/750 [==============================] - 2s 2ms/step - loss: 10.5600 - accuracy: 0.3077 - val_loss: 10.7557 - val_accuracy: 0.2948\n",
      "Epoch 8/10\n",
      "750/750 [==============================] - 2s 2ms/step - loss: 10.4920 - accuracy: 0.3122 - val_loss: 10.6464 - val_accuracy: 0.3020\n",
      "Epoch 9/10\n",
      "750/750 [==============================] - 2s 2ms/step - loss: 10.3981 - accuracy: 0.3183 - val_loss: 9.8452 - val_accuracy: 0.3548\n",
      "Epoch 10/10\n",
      "750/750 [==============================] - 2s 2ms/step - loss: 9.5898 - accuracy: 0.3714 - val_loss: 9.8273 - val_accuracy: 0.3560\n",
      "accuracy: 35.60%\n"
     ]
    }
   ],
   "source": [
    "for train_index, test_index in kf.split(Xs):\n",
    "    print(\"fold\",k)\n",
    " # initialise the weight for each fold\n",
    "    model.load_weights('model.h5')\n",
    "# Split the data\n",
    "    X_train, X_test = Xs[train_index], Xs[test_index]\n",
    "    y_train, y_test = y[train_index], y[test_index]\n",
    "    # tensorboard for visualising the training process later\n",
    "    tensorboard_cb = keras.callbacks.TensorBoard(run_logdir)\n",
    "    # training and validation\n",
    "    model.fit(np.array(X_train), np.array(y_train), epochs=10,\n",
    "    validation_data=(np.array(X_test),\n",
    "    np.array(y_test)),callbacks=[tensorboard_cb])\n",
    "\n",
    "    #save the model of each fold\n",
    "    model.save(os.path.join('fold_{}_model.hdf5'.format(k)))\n",
    "\n",
    "    # evaluate the accuracy of each fold\n",
    "    scores = model.evaluate(np.array(X_test), np.array(y_test), verbose=0)\n",
    "    print(\"%s: %.2f%%\" % (model.metrics_names[1], scores[1]*100))\n",
    "    k=k+1\n"
   ]
  }
 ],
 "metadata": {
  "kernelspec": {
   "display_name": "Python 3.8.5 ('base')",
   "language": "python",
   "name": "python3"
  },
  "language_info": {
   "codemirror_mode": {
    "name": "ipython",
    "version": 3
   },
   "file_extension": ".py",
   "mimetype": "text/x-python",
   "name": "python",
   "nbconvert_exporter": "python",
   "pygments_lexer": "ipython3",
   "version": "3.8.5"
  },
  "orig_nbformat": 4,
  "vscode": {
   "interpreter": {
    "hash": "9eb0c94882b82413a954cd78b10b800b8930e419728c0a1e75a8eb350de30a92"
   }
  }
 },
 "nbformat": 4,
 "nbformat_minor": 2
}
